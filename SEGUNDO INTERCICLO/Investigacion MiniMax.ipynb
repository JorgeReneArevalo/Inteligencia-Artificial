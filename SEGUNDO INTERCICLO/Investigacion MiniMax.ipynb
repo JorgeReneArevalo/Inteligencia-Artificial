{
 "cells": [
  {
   "cell_type": "markdown",
   "metadata": {},
   "source": [
    "**Nombre:** Jorge arévalo\n",
    "**Fecha:** 15/06/2020"
   ]
  },
  {
   "cell_type": "markdown",
   "metadata": {},
   "source": [
    "# Algoritmo MiniMax"
   ]
  },
  {
   "cell_type": "markdown",
   "metadata": {},
   "source": [
    "## Historia"
   ]
  },
  {
   "cell_type": "markdown",
   "metadata": {},
   "source": [
    "Aunque existen evidencias de que Charles Babbage ya había trabajado antes sobre una idea similar, fue el matemático francés Émile Borel el primero en ofrecer en 1921 un tratamiento riguroso a los juegos competitivos y en estudiar las estrategias aplicables a los juegos de suma cero. Sin embargo suele atribuirse a John von Neumann el principal mérito de la concepción del principio minimax, ya que fue él quien, en su artículo de 1928 «Zur Theorie der Gesellschaftsspiele» («Sobre la teoría de los juegos de sociedad») publicado en la revista Mathematische Annalen,puso las bases de la moderna teoría de juegos y probó el teorema fundamental del minimax, por el que se demuestra que para juegos de suma cero con información perfecta entre dos competidores existe una única solución óptima."
   ]
  },
  {
   "cell_type": "markdown",
   "metadata": {},
   "source": [
    "## Ejemplo"
   ]
  },
  {
   "attachments": {},
   "cell_type": "markdown",
   "metadata": {},
   "source": [
    "El algoritmo de minimax en simples palabras consiste en la elección del mejor movimiento para el computador, suponiendo que el contrincante escogerá uno que lo pueda perjudicar, para escoger la mejor opción este algoritmo realiza un árbol de búsqueda con todos los posibles movimientos, luego recorre todo el árbol de soluciones del juego a partir de un estado dado, es decir, según las casillas que ya han sido rellenadas. Por tanto, minimax se ejecutará cada vez que le toque mover a la IA.\n",
    "\n",
    "**En el algoritmo Minimax el espacio de búsqueda queda definido por:**\n",
    "\n",
    "**Estado inicial:** Es una configuración inicial del juego, es decir, un estado en el que se encuentre el juego. Para nuestro ejemplo sería:\n",
    "<img src=\"img/img1.png\">\n",
    "**Operadores:** Corresponden a las jugadas legales que se pueden hacer en el juego, en el caso del tres en raya no puedes marcar una casilla ya antes marcada.\n",
    "<img src=\"img/img2.png\">\n",
    "Condición Terminal: Determina cuando el juego se acabó, en nuestro ejemplo el juego termina cuando un jugador marca tres casillas seguidas iguales, ya se horizontalmente, verticalmente o en diagonal, o se marcan todas las casillas (empate).\n",
    "<img src=\"img/img3.png\">\n",
    "Función de Utilidad: Da un valor numérico a una configuración final de un juego. En un juego en donde se puede ganar, perder o empatar, los valores pueden ser 1, 0, o -1.\n",
    "<img src=\"img/img4.png\">\n",
    "Implementación Minimax: Los pasos que sigue minimax pueden variar, pero lo importante es tener una idea clara de cómo es su funcionamiento, los pasos a seguir son:\n",
    "\n",
    "El algoritmo primero generar un árbol de soluciones completo a partir de un nodo dado. veamos el siguiente ejemplo:\n",
    "<img src=\"img/img5.png\">\n",
    "Para cada nodo final, buscamos la función de utilidad de estos. En nuestro ejemplo usaremos un 0 para las partidas que terminen en empate, un 1 para las que gane la IA y un -1 para las que gane el jugador humano.\n",
    "<img src=\"img/img6.png\">\n",
    "\n",
    "Comprendamos la terminología definida.\n",
    "1.- El estado inicial es la primera capa que define que el tablero está en blanco, es el turno de MAX para jugar.\n",
    "\n",
    "2.- La función de sucesor enumera todos los movimientos sucesores posibles. Se define para todas las capas del árbol.\n",
    "\n",
    "3.- El estado terminal es la última capa del árbol que muestra el estado final, es decir, si el jugador MAX gana, pierde o empata con el oponente.\n",
    "\n",
    "4.- Las utilidades en este caso para los estados terminales son 1, 0 y -1 como se discutió anteriormente, y también pueden usarse para determinar las utilidades de los otros nodos.\n",
    "<img src=\"img/img7.png\">\n",
    "\n",
    "**Para resumir**\n",
    "\n",
    "Decisión de Minimax = MAX {MIN {3,5,10}, MIN {2,2}}\n",
    "\n",
    "= MAX {3,2}\n",
    "\n",
    "= 3\n",
    "\n",
    "**Psuedocode:**"
   ]
  },
  {
   "cell_type": "raw",
   "metadata": {},
   "source": [
    "function minimax(node, depth, maximizingPlayer)\n",
    "            if depth = 0 or node is a terminal node\n",
    "                   return the utility of the node\n",
    "\n",
    "            if maximizingPlayer\n",
    "                   bestValue := ??\n",
    "            for each child of node\n",
    "                   v := minimax(child, depth ? 1, FALSE)\n",
    "                   bestValue := max(bestValue, v)\n",
    "            return bestValue  \n",
    "\n",
    "            else (* minimizing player *)\n",
    "                   bestValue := +?\n",
    "                   for each child of node\n",
    "                          v := minimax(child, depth ? 1, TRUE)\n",
    "                          bestValue := min(bestValue, v)\n",
    "                   return bestValue"
   ]
  },
  {
   "cell_type": "markdown",
   "metadata": {},
   "source": [
    "## Emplear el algoritmo en su problema Laberinto"
   ]
  },
  {
   "cell_type": "markdown",
   "metadata": {},
   "source": [
    "Los árboles de juego, en general, requieren mucho tiempo para construir, y es solo para juegos simples que se pueden generar en poco tiempo.\n",
    "\n",
    "Si hay si movimientos legales, es decir, si nodos en cada punto y la profundidad máxima del árbol es metro, la complejidad temporal del algoritmo minimax es del orden.\n",
    "\n",
    "Para frenar esta situación, hay algunas optimizaciones que se pueden agregar al algoritmo.\n",
    "\n",
    "Afortunadamente, es viable encontrar la decisión real de minimax sin siquiera mirar cada nodo del árbol del juego. Por lo tanto, eliminamos nodos del árbol sin analizar, y este proceso se llama poda.\n",
    "\n",
    "La construcción al azar permite generar gran cantidad de laberintos conteniendo corredores como las ramas de un árbol, persiguiendo la desorientación del explorador, siendo a su vez ésta la forma más fácil de implementarse en un programa de computadora. Los algoritmos explicados a continuación, generan laberintos LCS completamente conectados.\n",
    "\n",
    "**Cavar túneles.** Como su nombre lo indica, se refiere a cavar túneles a lo largo y ancho del laberinto hasta cubrirlo en su totalidad, como la explotación de una mina. A este tipo de construcción, pertenecen:\n",
    "\n",
    "Algoritmo de construcción Kruscal.\n",
    "Algoritmo de construcción Aldous-Broder.\n",
    "Algoritmo de construcción Prim’s.\n",
    "Algoritmo de construcción Recursivo Bactracker.\n",
    "Algoritmo de construcción de Anderson.\n",
    "\n",
    "**Levantar muros.** Consiste en elevar los muros de los corredores por todo el cuerpo del laberinto, como en la construcción de un edificio."
   ]
  },
  {
   "cell_type": "markdown",
   "metadata": {},
   "source": [
    "# 4 Papers"
   ]
  },
  {
   "cell_type": "markdown",
   "metadata": {},
   "source": [
    "1.- El algoritmo minimax, también llamado algoritmo negamax, sigue siendo hoy la técnica de búsqueda más utilizada para juegos de información perfecta para dos jugadores. Sin embargo, se ha demostrado que el minimaxing es susceptible a la patología del árbol de juego, una situación paradójica en la que la precisión de la búsqueda puede disminuir a medida que aumenta la altura del árbol. El algoritmo minimax alternativo de Althöfer ha demostrado ser invulnerable a la patología. Sin embargo, no ha quedado claro si la poda alfa-beta, un componente crucial de los programas de juegos prácticos, podría aplicarse en el contexto del algoritmo de Alhöfer. En este breve documento, mostramos cómo la poda alfa-beta se puede adaptar al algoritmo de Althöfer.\n",
    "\n",
    "2.- La poda alfa-beta es una de las mejoras de búsqueda de MiniMax más poderosas y fundamentales. Fue diseñado para juegos secuenciales de dos jugadores con información perfecta de suma cero. En este artículo presentamos un método de poda de sonido similar a Alpha-Beta para la clase más general de \"juegos de matriz apilados\" que permiten movimientos simultáneos de ambos jugadores. Esto se logra al mantener los límites superior e inferior para obtener ganancias alcanzables en estados con acciones simultáneas y podas de acción dominadas basadas en la viabilidad de ciertos programas lineales. Los datos empíricos muestran ahorros considerables en términos de nodos expandidos y tiempo de computación en comparación con la ingenua computación de primer movimiento de profundidad sin poda.\n",
    "\n",
    "3.- Cuando usamos la búsqueda alfa-beta, es posible usar casi todas las modernizaciones conocidas (cambiar el orden de los movimientos de cálculo, la creación de varias tablas auxiliares, profundización progresiva e iterativa, etc.) Por lo tanto, como resultado del rendimiento del algoritmo, no se examinarán todos los movimientos sin objetivo (movimientos que no traen sobrepeso, movimientos realizados no bajo el plan de juego). Esta voluntad esencialmente mejorar el algoritmo de búsqueda alfa-beta (sin usar el algoritmo descrito anteriormente). De hecho, el mejor algoritmo es el algoritmo que visita el menor número de nodos Nuestro algoritmo no exige la clasificación de movimientos con división en buenos y malos cursos, es suficiente para ahorrar en la generación de la lista de posibles movimientos su ventaja (beneficio) (una estimación de un solo movimiento del programa sin respuesta del oponente, por ejemplo, una captura de un caballo del oponente es +3, un movimiento posicional fuerte es +0.5, etc.\n",
    "\n",
    "4.- Luckhardt e Irani extendieron el minimax a juegos multijugador, llamando al algoritmo resultante max \". Por conveniencia tipográfica nos referimos a él como maxn. Asumen que los jugadores alternan movimientos, que cada jugador intenta maximizar su retorno percibido, y es indiferente a los retornos de los jugadores restantes.En los nodos fronterizos, se aplica una función de evaluación que devuelve una N-tupla de valores, donde N es el número de jugadores, con cada componente correspondiente al mérito estimado de la posición con respecto a uno de los jugadores. Entonces, el valor de cada nodo interior donde se moverá el jugador i es la N-tupla completa del niño para el cual el componente i-ésimo es un máximo."
   ]
  },
  {
   "cell_type": "markdown",
   "metadata": {},
   "source": [
    "# Juego easyAI\n",
    "\n",
    "### Desarrollar un mini-juego (tema libre) empleando una de las 2 siguientes alternativas:"
   ]
  },
  {
   "cell_type": "code",
   "execution_count": null,
   "metadata": {},
   "outputs": [
    {
     "name": "stdout",
     "output_type": "stream",
     "text": [
      " * Serving Flask app \"__main__\" (lazy loading)\n",
      " * Environment: production\n",
      "   WARNING: This is a development server. Do not use it in a production deployment.\n",
      "   Use a production WSGI server instead.\n",
      " * Debug mode: off\n"
     ]
    },
    {
     "name": "stderr",
     "output_type": "stream",
     "text": [
      " * Running on http://127.0.0.1:5000/ (Press CTRL+C to quit)\n"
     ]
    }
   ],
   "source": [
    "from easyAI import TwoPlayersGame, Human_Player, AI_Player, Negamax\n",
    "from flask import Flask, render_template_string, request, make_response\n",
    "\n",
    "\n",
    "class TicTacToe(TwoPlayersGame):\n",
    "    \"\"\" The board positions are numbered as follows:\n",
    "            7 8 9\n",
    "            4 5 6\n",
    "            1 2 3\n",
    "    \"\"\"\n",
    "\n",
    "    def __init__(self, players):\n",
    "        self.players = players\n",
    "        self.board = [0 for i in range(9)]\n",
    "        self.nplayer = 1  # player 1 starts.\n",
    "\n",
    "    def possible_moves(self):\n",
    "        return [i + 1 for i, e in enumerate(self.board) if e == 0]\n",
    "\n",
    "    def make_move(self, move):\n",
    "        self.board[int(move) - 1] = self.nplayer\n",
    "\n",
    "    def unmake_move(self, move):  # optional method (speeds up the AI)\n",
    "        self.board[int(move) - 1] = 0\n",
    "\n",
    "    WIN_LINES = [\n",
    "        [1, 2, 3], [4, 5, 6], [7, 8, 9],  # horiz.\n",
    "        [1, 4, 7], [2, 5, 8], [3, 6, 9],  # vertical\n",
    "        [1, 5, 9], [3, 5, 7]  # diagonal\n",
    "    ]\n",
    "\n",
    "    def lose(self, who=None):\n",
    "        \"\"\" Has the opponent \"three in line ?\" \"\"\"\n",
    "        if who is None:\n",
    "            who = self.nopponent\n",
    "        wins = [all(\n",
    "            [(self.board[c - 1] == who) for c in line]\n",
    "        ) for line in self.WIN_LINES]\n",
    "        return any(wins)\n",
    "\n",
    "    def is_over(self):\n",
    "        return (self.possible_moves() == []) or self.lose() or \\\n",
    "            self.lose(who=self.nplayer)\n",
    "\n",
    "    def show(self):\n",
    "        print ('\\n' + '\\n'.join([\n",
    "            ' '.join(\n",
    "                [['.', 'O', 'X'][self.board[3 * j + i]] for i in range(3)]\n",
    "            )\n",
    "            for j in range(3)\n",
    "        ]))\n",
    "\n",
    "    def spot_string(self, i, j):\n",
    "        return [\"_\", \"O\", \"X\"][self.board[3 * j + i]]\n",
    "\n",
    "    def scoring(self):\n",
    "        opp_won = self.lose()\n",
    "        i_won = self.lose(who=self.nplayer)\n",
    "        if opp_won and not i_won:\n",
    "            return -100\n",
    "        if i_won and not opp_won:\n",
    "            return 100\n",
    "        return 0\n",
    "\n",
    "    def winner(self):\n",
    "        if self.lose(who=2):\n",
    "            return \"AI Wins\"\n",
    "        return \"Tie\"\n",
    "\n",
    "\n",
    "TEXT = '''\n",
    "<!doctype html>\n",
    "<html>\n",
    "  <head><title>Tic Tac Toe</title></head>\n",
    "  <body>\n",
    "    <h1>Tic Tac Toe</h1>\n",
    "    <h2>{{msg}}</h2>\n",
    "    <form action=\"\" method=\"POST\">\n",
    "      <table>\n",
    "        {% for j in range(2, -1, -1) %}\n",
    "        <tr>\n",
    "          {% for i in range(0, 3) %}\n",
    "          <td>\n",
    "            <button type=\"submit\" name=\"choice\" value=\"{{j*3+i+1}}\"\n",
    "             {{\"disabled\" if ttt.spot_string(i, j)!=\"_\"}}>\n",
    "              {{ttt.spot_string(i, j)}}\n",
    "            </button>\n",
    "          </td>\n",
    "          {% endfor %}\n",
    "        </tr>\n",
    "        {% endfor %}\n",
    "      </table>\n",
    "      <button type=\"submit\" name=\"reset\">Start Over</button>\n",
    "    </form>\n",
    "  </body>\n",
    "</html>\n",
    "'''\n",
    "\n",
    "app = Flask(__name__)\n",
    "ai_algo = Negamax(6)\n",
    "\n",
    "\n",
    "@app.route(\"/\", methods=['GET', 'POST'])\n",
    "def play_game():\n",
    "    ttt = TicTacToe([Human_Player(), AI_Player(ai_algo)])\n",
    "    game_cookie = request.cookies.get('game_board')\n",
    "    if game_cookie:\n",
    "        ttt.board = [int(x) for x in game_cookie.split(\",\")]\n",
    "    if \"choice\" in request.form:\n",
    "        ttt.play_move(request.form[\"choice\"])\n",
    "        if not ttt.is_over():\n",
    "            ai_move = ttt.get_move()\n",
    "            ttt.play_move(ai_move)\n",
    "    if \"reset\" in request.form:\n",
    "        ttt.board = [0 for i in range(9)]\n",
    "    if ttt.is_over():\n",
    "        msg = ttt.winner()\n",
    "    else:\n",
    "        msg = \"play move\"\n",
    "    resp = make_response(render_template_string(TEXT, ttt=ttt, msg=msg))\n",
    "    c = \",\".join(map(str, ttt.board))\n",
    "    resp.set_cookie(\"game_board\", c)\n",
    "    return resp\n",
    "\n",
    "\n",
    "if __name__ == \"__main__\":\n",
    "    app.run()"
   ]
  },
  {
   "cell_type": "markdown",
   "metadata": {},
   "source": [
    "# Movimientos"
   ]
  },
  {
   "cell_type": "markdown",
   "metadata": {},
   "source": [
    "### Resultados"
   ]
  },
  {
   "cell_type": "markdown",
   "metadata": {},
   "source": [
    "**1\n",
    "<img src=\"img/tic1.png\">\n",
    "2\n",
    "<img src=\"img/tic2.png\">\n",
    "3\n",
    "<img src=\"img/tic3.png\">\n",
    "4\n",
    "<img src=\"img/tic4.png\">\n",
    "5\n",
    "<img src=\"img/tic5.png\">\n",
    "6**\n",
    "<img src=\"img/tic6.png\">"
   ]
  }
 ],
 "metadata": {
  "kernelspec": {
   "display_name": "Python 3",
   "language": "python",
   "name": "python3"
  },
  "language_info": {
   "codemirror_mode": {
    "name": "ipython",
    "version": 3
   },
   "file_extension": ".py",
   "mimetype": "text/x-python",
   "name": "python",
   "nbconvert_exporter": "python",
   "pygments_lexer": "ipython3",
   "version": "3.7.6"
  }
 },
 "nbformat": 4,
 "nbformat_minor": 4
}
